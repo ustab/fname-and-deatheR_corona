{
  "nbformat": 4,
  "nbformat_minor": 0,
  "metadata": {
    "colab": {
      "name": "Untitled28.ipynb",
      "provenance": [],
      "collapsed_sections": [],
      "authorship_tag": "ABX9TyP4FBzofTk2DGhjYk4Nftzw",
      "include_colab_link": true
    },
    "kernelspec": {
      "name": "python3",
      "display_name": "Python 3"
    },
    "language_info": {
      "name": "python"
    }
  },
  "cells": [
    {
      "cell_type": "markdown",
      "metadata": {
        "id": "view-in-github",
        "colab_type": "text"
      },
      "source": [
        "<a href=\"https://colab.research.google.com/github/ustab/fname_cade/blob/main/Untitled28.ipynb\" target=\"_parent\"><img src=\"https://colab.research.google.com/assets/colab-badge.svg\" alt=\"Open In Colab\"/></a>"
      ]
    },
    {
      "cell_type": "code",
      "execution_count": null,
      "metadata": {
        "id": "Cdjv_JYcolFr"
      },
      "outputs": [],
      "source": [
        "yes=True\n",
        "no=False\n",
        "age=input(\"age: enter True or False:\")\n",
        "chronic=input(\"chronic: enter True or False:\")\n",
        "immun=input(\"immun: enter True or False: \")\n",
        "if age==\"False\" and chronic==\"False\" and immun==\"False\":\n",
        "    print(\"there is  no risk of death due to corona\")\n",
        "else:\n",
        "    print(\"there is  risk of death due to corona\")"
      ]
    }
  ]
}